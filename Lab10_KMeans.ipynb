{
  "cells": [
    {
      "cell_type": "markdown",
      "metadata": {
        "id": "view-in-github",
        "colab_type": "text"
      },
      "source": [
        "<a href=\"https://colab.research.google.com/github/2403A51L06/AIML_2025/blob/main/Lab10_KMeans.ipynb\" target=\"_parent\"><img src=\"https://colab.research.google.com/assets/colab-badge.svg\" alt=\"Open In Colab\"/></a>"
      ]
    },
    {
      "cell_type": "markdown",
      "id": "d0b133b0",
      "metadata": {
        "id": "d0b133b0"
      },
      "source": [
        "## Implement K-Means Clustering using Synthetic Data from Blobs"
      ]
    },
    {
      "cell_type": "code",
      "execution_count": 27,
      "id": "b718d332",
      "metadata": {
        "id": "b718d332"
      },
      "outputs": [],
      "source": [
        "import matplotlib.pyplot as plt\n",
        "import seaborn as sns\n",
        "sns.set() #Plot styling\n",
        "import numpy as np"
      ]
    },
    {
      "cell_type": "code",
      "execution_count": 28,
      "id": "bbce08d0",
      "metadata": {
        "colab": {
          "base_uri": "https://localhost:8080/",
          "height": 434
        },
        "id": "bbce08d0",
        "outputId": "80ce0fa0-d8d1-4112-93ec-c001e46ecd6d"
      },
      "outputs": [
        {
          "output_type": "display_data",
          "data": {
            "text/plain": [
              "<Figure size 640x480 with 1 Axes>"
            ],
            "image/png": "[encoded data removed]"
          },
          "metadata": {}
        }
      ],
      "source": [
        "from sklearn.datasets import make_blobs\n",
        "X, y_true = make_blobs(n_samples=300, centers=4,\n",
        "                       cluster_std=0.50, random_state=0)\n",
        "plt.scatter(X[:, 0], X[:, 1], s=50,color='blue');"
      ]
    },
    {
      "cell_type": "markdown",
      "id": "8805fbd2",
      "metadata": {
        "id": "8805fbd2"
      },
      "source": [
        "**Import K-Means from Sklearn and Fit the data**"
      ]
    },
    {
      "cell_type": "code",
      "execution_count": 29,
      "id": "ac836aba",
      "metadata": {
        "id": "ac836aba"
      },
      "outputs": [],
      "source": [
        "from sklearn.cluster import KMeans\n",
        "kmeans = KMeans(n_clusters=4, n_init=10)\n",
        "kmeans.fit(X)\n",
        "y_kmeans = kmeans.predict(X)"
      ]
    },
    {
      "cell_type": "markdown",
      "id": "64f8e871",
      "metadata": {
        "id": "64f8e871"
      },
      "source": [
        "**Visualize the fitted data by coloring the blobs by assigned label numbers**"
      ]
    },
    {
      "cell_type": "code",
      "execution_count": null,
      "id": "99acffc7",
      "metadata": {
        "id": "99acffc7"
      },
      "outputs": [],
      "source": [
        "plt.scatter(X[:, 0], X[:, 1], c=y_kmeans,\n",
        "            s=50, cmap='viridis')\n",
        "\n",
        "centers = kmeans.cluster_centers_\n",
        "plt.scatter(centers[:, 0], centers[:, 1],\n",
        "            c='black', s=200, alpha=0.5);"
      ]
    },
    {
      "cell_type": "markdown",
      "id": "68521491",
      "metadata": {
        "id": "68521491"
      },
      "source": [
        "**Implement K-Means Algorithm from Scratch and Compare it with Expectation-Maximization(EM) Algorithm**"
      ]
    },
    {
      "cell_type": "code",
      "execution_count": null,
      "id": "d237a4d3",
      "metadata": {
        "id": "d237a4d3"
      },
      "outputs": [],
      "source": [
        "from sklearn.metrics import pairwise_distances_argmin\n",
        "\n",
        "def find_clusters(X, n_clusters, rseed=2):\n",
        "    # 1. Randomly choose clusters\n",
        "    rng = np.random.RandomState(rseed)\n",
        "    i = rng.permutation(X.shape[0])[:n_clusters]\n",
        "    centers = X[i]\n",
        "\n",
        "    while True:\n",
        "        # 2a. Assign labels based on closest center\n",
        "        labels = pairwise_distances_argmin(X, centers)\n",
        "\n",
        "        # 2b. Find new centers from means of points\n",
        "        new_centers = np.array([X[labels == i].mean(0)\n",
        "                                for i in range(n_clusters)])\n",
        "\n",
        "        # 2c. Check for convergence\n",
        "        if np.all(centers == new_centers):\n",
        "            break\n",
        "        centers = new_centers\n",
        "\n",
        "    return centers, labels\n",
        "\n",
        "centers, labels = find_clusters(X, 3)\n",
        "plt.scatter(X[:, 0], X[:, 1], c=labels,\n",
        "            s=50, cmap='viridis');"
      ]
    },
    {
      "cell_type": "markdown",
      "id": "4aee7b3a",
      "metadata": {
        "id": "4aee7b3a"
      },
      "source": [
        "**Bad Optimization of Sub-Optimal Clustering**"
      ]
    },
    {
      "cell_type": "code",
      "execution_count": null,
      "id": "7c346a30",
      "metadata": {
        "id": "7c346a30"
      },
      "outputs": [],
      "source": [
        "centers, labels = find_clusters(X, 4, rseed=0)\n",
        "plt.scatter(X[:, 0], X[:, 1], c=labels,\n",
        "            s=50, cmap='viridis');"
      ]
    },
    {
      "cell_type": "markdown",
      "id": "81cce5ca",
      "metadata": {
        "id": "81cce5ca"
      },
      "source": [
        "**How many number of Clusters**\n",
        "\n",
        "Plot the clusters formed using scatter plot"
      ]
    },
    {
      "cell_type": "code",
      "execution_count": null,
      "id": "c56d636a",
      "metadata": {
        "id": "c56d636a"
      },
      "outputs": [],
      "source": [
        "labels = KMeans(4, random_state=0, n_init=10).fit_predict(X)\n",
        "plt.scatter(X[:, 0], X[:, 1], c=labels,\n",
        "            s=50, cmap='viridis');"
      ]
    },
    {
      "cell_type": "markdown",
      "id": "d4c00c3e",
      "metadata": {
        "id": "d4c00c3e"
      },
      "source": [
        "**Limitations of K-Means Algorithm**"
      ]
    },
    {
      "cell_type": "code",
      "execution_count": null,
      "id": "be23e98b",
      "metadata": {
        "id": "be23e98b"
      },
      "outputs": [],
      "source": [
        "from sklearn.datasets import make_moons\n",
        "X, y = make_moons(200, noise=.05, random_state=0)"
      ]
    },
    {
      "cell_type": "code",
      "execution_count": null,
      "id": "0f2be305",
      "metadata": {
        "id": "0f2be305"
      },
      "outputs": [],
      "source": [
        "labels = KMeans(2, random_state=0, n_init=10).fit_predict(X)\n",
        "plt.scatter(X[:, 0], X[:, 1], c=labels,\n",
        "            s=50, cmap='viridis');"
      ]
    },
    {
      "cell_type": "markdown",
      "id": "d4f36340",
      "metadata": {
        "id": "d4f36340"
      },
      "source": [
        "**Kernel Transformation**"
      ]
    },
    {
      "cell_type": "code",
      "execution_count": null,
      "id": "1fc3c2e7",
      "metadata": {
        "id": "1fc3c2e7"
      },
      "outputs": [],
      "source": [
        "from sklearn.cluster import SpectralClustering\n",
        "model = SpectralClustering(n_clusters=2,\n",
        "                           affinity='nearest_neighbors',\n",
        "                           assign_labels='kmeans')\n",
        "labels = model.fit_predict(X)\n",
        "plt.scatter(X[:, 0], X[:, 1], c=labels,\n",
        "            s=50, cmap='viridis');"
      ]
    },
    {
      "cell_type": "markdown",
      "id": "6ca57bb8",
      "metadata": {
        "id": "6ca57bb8"
      },
      "source": [
        "**Limitation of K-Means Clustering**"
      ]
    },
    {
      "cell_type": "code",
      "execution_count": null,
      "id": "12d91dda",
      "metadata": {
        "id": "12d91dda"
      },
      "outputs": [],
      "source": [
        "from sklearn.datasets import make_blobs\n",
        "X, y_true = make_blobs(n_samples=400, centers=4,\n",
        "                       cluster_std=0.7, random_state=0)\n",
        "X = X[:, ::-1] # flip axes for better plotting"
      ]
    },
    {
      "cell_type": "code",
      "execution_count": null,
      "id": "8b7568b7",
      "metadata": {
        "id": "8b7568b7"
      },
      "outputs": [],
      "source": [
        "from sklearn.cluster import KMeans\n",
        "kmeans = KMeans(4, random_state=0, n_init=10)\n",
        "labels = kmeans.fit(X).predict(X)\n",
        "plt.scatter(X[:, 0], X[:, 1], c=labels, s=40, cmap='viridis');"
      ]
    },
    {
      "cell_type": "markdown",
      "id": "10e9b7da",
      "metadata": {
        "id": "10e9b7da"
      },
      "source": [
        "**Representing Non-Circular Clusters**\n",
        "\n",
        "In particular, the non-probabilistic nature of k-means and its use of simple distance-from-cluster-center to assign cluster membership leads to poor performance for many real-world situations.\n",
        "\n",
        "Gaussian mixture models (GMMs), can be viewed as an extension of the ideas behind k-means, but can also be a powerful tool for estimation beyond simple clustering."
      ]
    },
    {
      "cell_type": "code",
      "execution_count": null,
      "id": "bc2691d2",
      "metadata": {
        "id": "bc2691d2"
      },
      "outputs": [],
      "source": [
        "from sklearn.cluster import KMeans\n",
        "from scipy.spatial.distance import cdist"
      ]
    },
    {
      "cell_type": "code",
      "execution_count": null,
      "id": "94c2b711",
      "metadata": {
        "id": "94c2b711"
      },
      "outputs": [],
      "source": [
        "def plot_kmeans(kmeans, X, n_clusters=4, rseed=0, ax=None):\n",
        "    labels = kmeans.fit_predict(X)\n",
        "\n",
        "    # plot the input data\n",
        "    ax = ax or plt.gca()\n",
        "    ax.axis('equal')\n",
        "    ax.scatter(X[:, 0], X[:, 1], c=labels, s=50, cmap='viridis', edgecolor='k',zorder=2)\n",
        "\n",
        "    # plot the representation of the KMeans model\n",
        "    centers = kmeans.cluster_centers_\n",
        "    radii = [cdist(X[labels == i], [center]).max()\n",
        "             for i, center in enumerate(centers)]\n",
        "    for c, r in zip(centers, radii):\n",
        "        ax.add_patch(plt.Circle(c, r, fc='#CCCCCC', lw=3, alpha=0.5, zorder=1))"
      ]
    },
    {
      "cell_type": "code",
      "execution_count": null,
      "id": "69173d58",
      "metadata": {
        "id": "69173d58"
      },
      "outputs": [],
      "source": [
        "kmeans = KMeans(n_clusters=4, random_state=0, n_init=10)\n",
        "plot_kmeans(kmeans, X)"
      ]
    },
    {
      "cell_type": "markdown",
      "id": "d514f08d",
      "metadata": {
        "id": "d514f08d"
      },
      "source": [
        "**K-Means also fails for representing Elliptic or Oblong Clusters**"
      ]
    },
    {
      "cell_type": "code",
      "execution_count": null,
      "id": "5b0ce8da",
      "metadata": {
        "id": "5b0ce8da"
      },
      "outputs": [],
      "source": [
        "rng = np.random.RandomState(13)\n",
        "X_stretched = np.dot(X, rng.randn(2, 2))\n",
        "\n",
        "kmeans = KMeans(n_clusters=4, random_state=0, n_init=10)\n",
        "plot_kmeans(kmeans, X_stretched)"
      ]
    },
    {
      "cell_type": "markdown",
      "id": "24dd59af",
      "metadata": {
        "id": "24dd59af"
      },
      "source": [
        "## Generalize to Gaussian Mixture Models"
      ]
    },
    {
      "cell_type": "code",
      "execution_count": null,
      "id": "1897d149",
      "metadata": {
        "id": "1897d149"
      },
      "outputs": [],
      "source": [
        "from sklearn.mixture import GaussianMixture\n",
        "gmm = GaussianMixture(n_components=4).fit(X)\n",
        "labels = gmm.predict(X)\n",
        "plt.scatter(X[:, 0], X[:, 1], c=labels, s=40, cmap='viridis');"
      ]
    },
    {
      "cell_type": "code",
      "execution_count": null,
      "id": "63c2a711",
      "metadata": {
        "id": "63c2a711"
      },
      "outputs": [],
      "source": [
        "probs = gmm.predict_proba(X)\n",
        "print(probs[:5].round(3))"
      ]
    },
    {
      "cell_type": "code",
      "execution_count": null,
      "id": "0b554c05",
      "metadata": {
        "id": "0b554c05"
      },
      "outputs": [],
      "source": [
        "size = probs.max(1)/0.02  # square emphasizes differences\n",
        "plt.scatter(X[:, 0], X[:, 1], c=labels, edgecolor='k', cmap='viridis', s=size);"
      ]
    },
    {
      "cell_type": "markdown",
      "id": "863160c4",
      "metadata": {
        "id": "863160c4"
      },
      "source": [
        "**GMM as Density Estimation and Generative Model**"
      ]
    },
    {
      "cell_type": "code",
      "execution_count": null,
      "id": "4d4f33b9",
      "metadata": {
        "id": "4d4f33b9"
      },
      "outputs": [],
      "source": [
        "from sklearn.datasets import make_moons\n",
        "Xmoon, ymoon = make_moons(200, noise=.05, random_state=0)\n",
        "plt.scatter(Xmoon[:, 0], Xmoon[:, 1],edgecolor='k');"
      ]
    },
    {
      "cell_type": "code",
      "execution_count": null,
      "id": "ba2a3106",
      "metadata": {
        "id": "ba2a3106"
      },
      "outputs": [],
      "source": [
        "from matplotlib.patches import Ellipse\n",
        "\n",
        "def draw_ellipse(position, covariance, ax=None, **kwargs):\n",
        "    \"\"\"Draw an ellipse with a given position and covariance\"\"\"\n",
        "    ax = ax or plt.gca()\n",
        "\n",
        "    # Convert covariance to principal axes\n",
        "    if covariance.shape == (2, 2):\n",
        "        U, s, Vt = np.linalg.svd(covariance)\n",
        "        angle = np.degrees(np.arctan2(U[1, 0], U[0, 0]))\n",
        "        width, height = 2 * np.sqrt(s)\n",
        "    else:\n",
        "        angle = 0\n",
        "        width, height = 2 * np.sqrt(covariance)\n",
        "\n",
        "    # Draw the Ellipse\n",
        "    for nsig in range(1, 4):\n",
        "        ax.add_patch(Ellipse(position, nsig * width, nsig * height,\n",
        "                             angle, **kwargs))\n",
        "\n",
        "def plot_gmm(gmm, X, label=True, ax=None):\n",
        "    ax = ax or plt.gca()\n",
        "    labels = gmm.fit(X).predict(X)\n",
        "    if label:\n",
        "        ax.scatter(X[:, 0], X[:, 1], c=labels, s=40, cmap='viridis', zorder=2,edgecolor='k')\n",
        "    else:\n",
        "        ax.scatter(X[:, 0], X[:, 1], s=40, zorder=2,cmap='viridis',edgecolor='k')\n",
        "    ax.axis('equal')\n",
        "\n",
        "    w_factor = 0.2 / gmm.weights_.max()\n",
        "    for pos, covar, w in zip(gmm.means_, gmm.covariances_, gmm.weights_):\n",
        "        draw_ellipse(pos, covar, alpha=w * w_factor)"
      ]
    },
    {
      "cell_type": "code",
      "execution_count": null,
      "id": "79ed7c14",
      "metadata": {
        "id": "79ed7c14"
      },
      "outputs": [],
      "source": [
        "#No.Components determine the gmm structure and its distribution\n",
        "gmm2 = GaussianMixture(n_components=4, covariance_type='full', random_state=1)\n",
        "plt.figure(figsize=(8,5))\n",
        "plot_gmm(gmm2, Xmoon)"
      ]
    }
  ],
  "metadata": {
    "kernelspec": {
      "display_name": "Python 3 (ipykernel)",
      "language": "python",
      "name": "python3"
    },
    "language_info": {
      "codemirror_mode": {
        "name": "ipython",
        "version": 3
      },
      "file_extension": ".py",
      "mimetype": "text/x-python",
      "name": "python",
      "nbconvert_exporter": "python",
      "pygments_lexer": "ipython3",
      "version": "3.13.0"
    },
    "colab": {
      "provenance": [],
      "include_colab_link": true
    }
  },
  "nbformat": 4,
  "nbformat_minor": 5
}